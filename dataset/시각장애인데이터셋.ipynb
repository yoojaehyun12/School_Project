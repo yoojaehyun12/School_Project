{
  "nbformat": 4,
  "nbformat_minor": 0,
  "metadata": {
    "colab": {
      "provenance": [],
      "collapsed_sections": [
        "-ZH39ypUsFo1",
        "NMPtRL2QuMRf",
        "GrtCXTZNwXjP",
        "qscovw0jwkWt",
        "NftJzI7fwuXP",
        "ZowDyUsTw39R",
        "ledEWCum0UXn",
        "wiJNv1axxPXt",
        "aNlSvBMC4WZA",
        "lKt0L_EZ62pc",
        "VmAiEBZuyhvC"
      ],
      "toc_visible": true,
      "gpuType": "T4"
    },
    "kernelspec": {
      "name": "python3",
      "display_name": "Python 3"
    },
    "language_info": {
      "name": "python"
    },
    "accelerator": "GPU"
  },
  "cells": [
    {
      "cell_type": "markdown",
      "source": [
        "# 데이터 불러오기"
      ],
      "metadata": {
        "id": "-ZH39ypUsFo1"
      }
    },
    {
      "cell_type": "code",
      "execution_count": 1,
      "metadata": {
        "id": "6X4souL-r-0S"
      },
      "outputs": [],
      "source": [
        "import pandas as pd\n",
        "import matplotlib.pyplot as plt\n",
        "import seaborn as sns"
      ]
    },
    {
      "cell_type": "code",
      "source": [
        "data = pd.read_excel('/content/disabled_person_wearable.xlsx')"
      ],
      "metadata": {
        "id": "hgR6zMHjsO7p"
      },
      "execution_count": 2,
      "outputs": []
    },
    {
      "cell_type": "code",
      "source": [
        "# 코랩 한글 깨짐 방지\n",
        "!sudo apt-get install -y fonts-nanum\n",
        "!sudo fc-cache -fv\n",
        "!rm ~/.cache/matplotlib -rf"
      ],
      "metadata": {
        "colab": {
          "base_uri": "https://localhost:8080/"
        },
        "id": "yQUHOMy0uHCV",
        "outputId": "4f3aa57f-f3b8-4f24-a055-4fed53c61ba4"
      },
      "execution_count": 3,
      "outputs": [
        {
          "output_type": "stream",
          "name": "stdout",
          "text": [
            "Reading package lists... Done\n",
            "Building dependency tree... Done\n",
            "Reading state information... Done\n",
            "fonts-nanum is already the newest version (20200506-1).\n",
            "0 upgraded, 0 newly installed, 0 to remove and 35 not upgraded.\n",
            "/usr/share/fonts: caching, new cache contents: 0 fonts, 1 dirs\n",
            "/usr/share/fonts/truetype: caching, new cache contents: 0 fonts, 3 dirs\n",
            "/usr/share/fonts/truetype/humor-sans: caching, new cache contents: 1 fonts, 0 dirs\n",
            "/usr/share/fonts/truetype/liberation: caching, new cache contents: 16 fonts, 0 dirs\n",
            "/usr/share/fonts/truetype/nanum: caching, new cache contents: 12 fonts, 0 dirs\n",
            "/usr/local/share/fonts: caching, new cache contents: 0 fonts, 0 dirs\n",
            "/root/.local/share/fonts: skipping, no such directory\n",
            "/root/.fonts: skipping, no such directory\n",
            "/usr/share/fonts/truetype: skipping, looped directory detected\n",
            "/usr/share/fonts/truetype/humor-sans: skipping, looped directory detected\n",
            "/usr/share/fonts/truetype/liberation: skipping, looped directory detected\n",
            "/usr/share/fonts/truetype/nanum: skipping, looped directory detected\n",
            "/var/cache/fontconfig: cleaning cache directory\n",
            "/root/.cache/fontconfig: not cleaning non-existent cache directory\n",
            "/root/.fontconfig: not cleaning non-existent cache directory\n",
            "fc-cache: succeeded\n"
          ]
        }
      ]
    },
    {
      "cell_type": "code",
      "source": [
        "import matplotlib.pyplot as plt\n",
        "plt.rc('font', family='NanumBarunGothic')\n",
        "plt.rcParams['axes.unicode_minus'] =False"
      ],
      "metadata": {
        "id": "d6ETdlUIuKyB"
      },
      "execution_count": 4,
      "outputs": []
    },
    {
      "cell_type": "markdown",
      "source": [
        "# 데이터파악"
      ],
      "metadata": {
        "id": "NMPtRL2QuMRf"
      }
    },
    {
      "cell_type": "code",
      "source": [
        "data.head()"
      ],
      "metadata": {
        "colab": {
          "base_uri": "https://localhost:8080/",
          "height": 206
        },
        "id": "mCWRyb4DuNHM",
        "outputId": "8b4d2530-dcda-44df-bf1a-b01a7249ec7f"
      },
      "execution_count": 5,
      "outputs": [
        {
          "output_type": "execute_result",
          "data": {
            "text/plain": [
              "   번호    관할지사  성별   장애유형              중분류 기기 이용 장애인 종사 산업분류\n",
              "0   1  경기지역본부  여성   지체장애  차량용 액세서리 및 개조용품              종합병원\n",
              "1   2  서울지역본부  남성  뇌병변장애      작업용 가구 및 비품       기타 일반 공공 행정\n",
              "2   3  서울지역본부  남성  뇌병변장애      작업용 가구 및 비품       기타 일반 공공 행정\n",
              "3   4  서울지역본부  남성  뇌병변장애         의자용 액세서리       기타 일반 공공 행정\n",
              "4   5  대전지역본부  남성   지체장애       동력 구동 이동기기       금속 단조제품 제조업"
            ],
            "text/html": [
              "\n",
              "  <div id=\"df-f7a9bc1e-44a1-4c0e-8600-fabe46b90ca8\" class=\"colab-df-container\">\n",
              "    <div>\n",
              "<style scoped>\n",
              "    .dataframe tbody tr th:only-of-type {\n",
              "        vertical-align: middle;\n",
              "    }\n",
              "\n",
              "    .dataframe tbody tr th {\n",
              "        vertical-align: top;\n",
              "    }\n",
              "\n",
              "    .dataframe thead th {\n",
              "        text-align: right;\n",
              "    }\n",
              "</style>\n",
              "<table border=\"1\" class=\"dataframe\">\n",
              "  <thead>\n",
              "    <tr style=\"text-align: right;\">\n",
              "      <th></th>\n",
              "      <th>번호</th>\n",
              "      <th>관할지사</th>\n",
              "      <th>성별</th>\n",
              "      <th>장애유형</th>\n",
              "      <th>중분류</th>\n",
              "      <th>기기 이용 장애인 종사 산업분류</th>\n",
              "    </tr>\n",
              "  </thead>\n",
              "  <tbody>\n",
              "    <tr>\n",
              "      <th>0</th>\n",
              "      <td>1</td>\n",
              "      <td>경기지역본부</td>\n",
              "      <td>여성</td>\n",
              "      <td>지체장애</td>\n",
              "      <td>차량용 액세서리 및 개조용품</td>\n",
              "      <td>종합병원</td>\n",
              "    </tr>\n",
              "    <tr>\n",
              "      <th>1</th>\n",
              "      <td>2</td>\n",
              "      <td>서울지역본부</td>\n",
              "      <td>남성</td>\n",
              "      <td>뇌병변장애</td>\n",
              "      <td>작업용 가구 및 비품</td>\n",
              "      <td>기타 일반 공공 행정</td>\n",
              "    </tr>\n",
              "    <tr>\n",
              "      <th>2</th>\n",
              "      <td>3</td>\n",
              "      <td>서울지역본부</td>\n",
              "      <td>남성</td>\n",
              "      <td>뇌병변장애</td>\n",
              "      <td>작업용 가구 및 비품</td>\n",
              "      <td>기타 일반 공공 행정</td>\n",
              "    </tr>\n",
              "    <tr>\n",
              "      <th>3</th>\n",
              "      <td>4</td>\n",
              "      <td>서울지역본부</td>\n",
              "      <td>남성</td>\n",
              "      <td>뇌병변장애</td>\n",
              "      <td>의자용 액세서리</td>\n",
              "      <td>기타 일반 공공 행정</td>\n",
              "    </tr>\n",
              "    <tr>\n",
              "      <th>4</th>\n",
              "      <td>5</td>\n",
              "      <td>대전지역본부</td>\n",
              "      <td>남성</td>\n",
              "      <td>지체장애</td>\n",
              "      <td>동력 구동 이동기기</td>\n",
              "      <td>금속 단조제품 제조업</td>\n",
              "    </tr>\n",
              "  </tbody>\n",
              "</table>\n",
              "</div>\n",
              "    <div class=\"colab-df-buttons\">\n",
              "\n",
              "  <div class=\"colab-df-container\">\n",
              "    <button class=\"colab-df-convert\" onclick=\"convertToInteractive('df-f7a9bc1e-44a1-4c0e-8600-fabe46b90ca8')\"\n",
              "            title=\"Convert this dataframe to an interactive table.\"\n",
              "            style=\"display:none;\">\n",
              "\n",
              "  <svg xmlns=\"http://www.w3.org/2000/svg\" height=\"24px\" viewBox=\"0 -960 960 960\">\n",
              "    <path d=\"M120-120v-720h720v720H120Zm60-500h600v-160H180v160Zm220 220h160v-160H400v160Zm0 220h160v-160H400v160ZM180-400h160v-160H180v160Zm440 0h160v-160H620v160ZM180-180h160v-160H180v160Zm440 0h160v-160H620v160Z\"/>\n",
              "  </svg>\n",
              "    </button>\n",
              "\n",
              "  <style>\n",
              "    .colab-df-container {\n",
              "      display:flex;\n",
              "      gap: 12px;\n",
              "    }\n",
              "\n",
              "    .colab-df-convert {\n",
              "      background-color: #E8F0FE;\n",
              "      border: none;\n",
              "      border-radius: 50%;\n",
              "      cursor: pointer;\n",
              "      display: none;\n",
              "      fill: #1967D2;\n",
              "      height: 32px;\n",
              "      padding: 0 0 0 0;\n",
              "      width: 32px;\n",
              "    }\n",
              "\n",
              "    .colab-df-convert:hover {\n",
              "      background-color: #E2EBFA;\n",
              "      box-shadow: 0px 1px 2px rgba(60, 64, 67, 0.3), 0px 1px 3px 1px rgba(60, 64, 67, 0.15);\n",
              "      fill: #174EA6;\n",
              "    }\n",
              "\n",
              "    .colab-df-buttons div {\n",
              "      margin-bottom: 4px;\n",
              "    }\n",
              "\n",
              "    [theme=dark] .colab-df-convert {\n",
              "      background-color: #3B4455;\n",
              "      fill: #D2E3FC;\n",
              "    }\n",
              "\n",
              "    [theme=dark] .colab-df-convert:hover {\n",
              "      background-color: #434B5C;\n",
              "      box-shadow: 0px 1px 3px 1px rgba(0, 0, 0, 0.15);\n",
              "      filter: drop-shadow(0px 1px 2px rgba(0, 0, 0, 0.3));\n",
              "      fill: #FFFFFF;\n",
              "    }\n",
              "  </style>\n",
              "\n",
              "    <script>\n",
              "      const buttonEl =\n",
              "        document.querySelector('#df-f7a9bc1e-44a1-4c0e-8600-fabe46b90ca8 button.colab-df-convert');\n",
              "      buttonEl.style.display =\n",
              "        google.colab.kernel.accessAllowed ? 'block' : 'none';\n",
              "\n",
              "      async function convertToInteractive(key) {\n",
              "        const element = document.querySelector('#df-f7a9bc1e-44a1-4c0e-8600-fabe46b90ca8');\n",
              "        const dataTable =\n",
              "          await google.colab.kernel.invokeFunction('convertToInteractive',\n",
              "                                                    [key], {});\n",
              "        if (!dataTable) return;\n",
              "\n",
              "        const docLinkHtml = 'Like what you see? Visit the ' +\n",
              "          '<a target=\"_blank\" href=https://colab.research.google.com/notebooks/data_table.ipynb>data table notebook</a>'\n",
              "          + ' to learn more about interactive tables.';\n",
              "        element.innerHTML = '';\n",
              "        dataTable['output_type'] = 'display_data';\n",
              "        await google.colab.output.renderOutput(dataTable, element);\n",
              "        const docLink = document.createElement('div');\n",
              "        docLink.innerHTML = docLinkHtml;\n",
              "        element.appendChild(docLink);\n",
              "      }\n",
              "    </script>\n",
              "  </div>\n",
              "\n",
              "\n",
              "    <div id=\"df-fcc279e1-3988-449c-8e1e-7ed4e3701fb5\">\n",
              "      <button class=\"colab-df-quickchart\" onclick=\"quickchart('df-fcc279e1-3988-449c-8e1e-7ed4e3701fb5')\"\n",
              "                title=\"Suggest charts\"\n",
              "                style=\"display:none;\">\n",
              "\n",
              "<svg xmlns=\"http://www.w3.org/2000/svg\" height=\"24px\"viewBox=\"0 0 24 24\"\n",
              "     width=\"24px\">\n",
              "    <g>\n",
              "        <path d=\"M19 3H5c-1.1 0-2 .9-2 2v14c0 1.1.9 2 2 2h14c1.1 0 2-.9 2-2V5c0-1.1-.9-2-2-2zM9 17H7v-7h2v7zm4 0h-2V7h2v10zm4 0h-2v-4h2v4z\"/>\n",
              "    </g>\n",
              "</svg>\n",
              "      </button>\n",
              "\n",
              "<style>\n",
              "  .colab-df-quickchart {\n",
              "      --bg-color: #E8F0FE;\n",
              "      --fill-color: #1967D2;\n",
              "      --hover-bg-color: #E2EBFA;\n",
              "      --hover-fill-color: #174EA6;\n",
              "      --disabled-fill-color: #AAA;\n",
              "      --disabled-bg-color: #DDD;\n",
              "  }\n",
              "\n",
              "  [theme=dark] .colab-df-quickchart {\n",
              "      --bg-color: #3B4455;\n",
              "      --fill-color: #D2E3FC;\n",
              "      --hover-bg-color: #434B5C;\n",
              "      --hover-fill-color: #FFFFFF;\n",
              "      --disabled-bg-color: #3B4455;\n",
              "      --disabled-fill-color: #666;\n",
              "  }\n",
              "\n",
              "  .colab-df-quickchart {\n",
              "    background-color: var(--bg-color);\n",
              "    border: none;\n",
              "    border-radius: 50%;\n",
              "    cursor: pointer;\n",
              "    display: none;\n",
              "    fill: var(--fill-color);\n",
              "    height: 32px;\n",
              "    padding: 0;\n",
              "    width: 32px;\n",
              "  }\n",
              "\n",
              "  .colab-df-quickchart:hover {\n",
              "    background-color: var(--hover-bg-color);\n",
              "    box-shadow: 0 1px 2px rgba(60, 64, 67, 0.3), 0 1px 3px 1px rgba(60, 64, 67, 0.15);\n",
              "    fill: var(--button-hover-fill-color);\n",
              "  }\n",
              "\n",
              "  .colab-df-quickchart-complete:disabled,\n",
              "  .colab-df-quickchart-complete:disabled:hover {\n",
              "    background-color: var(--disabled-bg-color);\n",
              "    fill: var(--disabled-fill-color);\n",
              "    box-shadow: none;\n",
              "  }\n",
              "\n",
              "  .colab-df-spinner {\n",
              "    border: 2px solid var(--fill-color);\n",
              "    border-color: transparent;\n",
              "    border-bottom-color: var(--fill-color);\n",
              "    animation:\n",
              "      spin 1s steps(1) infinite;\n",
              "  }\n",
              "\n",
              "  @keyframes spin {\n",
              "    0% {\n",
              "      border-color: transparent;\n",
              "      border-bottom-color: var(--fill-color);\n",
              "      border-left-color: var(--fill-color);\n",
              "    }\n",
              "    20% {\n",
              "      border-color: transparent;\n",
              "      border-left-color: var(--fill-color);\n",
              "      border-top-color: var(--fill-color);\n",
              "    }\n",
              "    30% {\n",
              "      border-color: transparent;\n",
              "      border-left-color: var(--fill-color);\n",
              "      border-top-color: var(--fill-color);\n",
              "      border-right-color: var(--fill-color);\n",
              "    }\n",
              "    40% {\n",
              "      border-color: transparent;\n",
              "      border-right-color: var(--fill-color);\n",
              "      border-top-color: var(--fill-color);\n",
              "    }\n",
              "    60% {\n",
              "      border-color: transparent;\n",
              "      border-right-color: var(--fill-color);\n",
              "    }\n",
              "    80% {\n",
              "      border-color: transparent;\n",
              "      border-right-color: var(--fill-color);\n",
              "      border-bottom-color: var(--fill-color);\n",
              "    }\n",
              "    90% {\n",
              "      border-color: transparent;\n",
              "      border-bottom-color: var(--fill-color);\n",
              "    }\n",
              "  }\n",
              "</style>\n",
              "\n",
              "      <script>\n",
              "        async function quickchart(key) {\n",
              "          const quickchartButtonEl =\n",
              "            document.querySelector('#' + key + ' button');\n",
              "          quickchartButtonEl.disabled = true;  // To prevent multiple clicks.\n",
              "          quickchartButtonEl.classList.add('colab-df-spinner');\n",
              "          try {\n",
              "            const charts = await google.colab.kernel.invokeFunction(\n",
              "                'suggestCharts', [key], {});\n",
              "          } catch (error) {\n",
              "            console.error('Error during call to suggestCharts:', error);\n",
              "          }\n",
              "          quickchartButtonEl.classList.remove('colab-df-spinner');\n",
              "          quickchartButtonEl.classList.add('colab-df-quickchart-complete');\n",
              "        }\n",
              "        (() => {\n",
              "          let quickchartButtonEl =\n",
              "            document.querySelector('#df-fcc279e1-3988-449c-8e1e-7ed4e3701fb5 button');\n",
              "          quickchartButtonEl.style.display =\n",
              "            google.colab.kernel.accessAllowed ? 'block' : 'none';\n",
              "        })();\n",
              "      </script>\n",
              "    </div>\n",
              "\n",
              "    </div>\n",
              "  </div>\n"
            ],
            "application/vnd.google.colaboratory.intrinsic+json": {
              "type": "dataframe",
              "variable_name": "data",
              "summary": "{\n  \"name\": \"data\",\n  \"rows\": 11311,\n  \"fields\": [\n    {\n      \"column\": \"\\ubc88\\ud638\",\n      \"properties\": {\n        \"dtype\": \"number\",\n        \"std\": 3265,\n        \"min\": 1,\n        \"max\": 11311,\n        \"num_unique_values\": 11311,\n        \"samples\": [\n          8608,\n          2343,\n          6162\n        ],\n        \"semantic_type\": \"\",\n        \"description\": \"\"\n      }\n    },\n    {\n      \"column\": \"\\uad00\\ud560\\uc9c0\\uc0ac\",\n      \"properties\": {\n        \"dtype\": \"category\",\n        \"num_unique_values\": 22,\n        \"samples\": [\n          \"\\uacbd\\uae30\\uc9c0\\uc5ed\\ubcf8\\ubd80\",\n          \"\\uc6b8\\uc0b0\\uc9c0\\uc0ac\",\n          \"\\uc778\\ucc9c\\uc9c0\\uc0ac\"\n        ],\n        \"semantic_type\": \"\",\n        \"description\": \"\"\n      }\n    },\n    {\n      \"column\": \"\\uc131\\ubcc4\",\n      \"properties\": {\n        \"dtype\": \"category\",\n        \"num_unique_values\": 2,\n        \"samples\": [\n          \"\\ub0a8\\uc131\",\n          \"\\uc5ec\\uc131\"\n        ],\n        \"semantic_type\": \"\",\n        \"description\": \"\"\n      }\n    },\n    {\n      \"column\": \"\\uc7a5\\uc560\\uc720\\ud615\",\n      \"properties\": {\n        \"dtype\": \"category\",\n        \"num_unique_values\": 14,\n        \"samples\": [\n          \"\\uc0c1\\uc774\\ub4f1\\uae09\",\n          \"\\uae30\\ud0c0\\uc7a5\\uc560\"\n        ],\n        \"semantic_type\": \"\",\n        \"description\": \"\"\n      }\n    },\n    {\n      \"column\": \"\\uc911\\ubd84\\ub958\",\n      \"properties\": {\n        \"dtype\": \"category\",\n        \"num_unique_values\": 58,\n        \"samples\": [\n          \"\\ucc28\\ub7c9\\uc6a9 \\uc561\\uc138\\uc11c\\ub9ac \\ubc0f \\uac1c\\uc870\\uc6a9\\ud488\",\n          \"\\uc77d\\uae30, \\uc4f0\\uae30, \\uadf8\\ub9ac\\uae30 \\ubcf4\\uc870\\uacf5\\ud559\\uae30\\uae30\"\n        ],\n        \"semantic_type\": \"\",\n        \"description\": \"\"\n      }\n    },\n    {\n      \"column\": \"\\uae30\\uae30 \\uc774\\uc6a9 \\uc7a5\\uc560\\uc778 \\uc885\\uc0ac \\uc0b0\\uc5c5\\ubd84\\ub958\",\n      \"properties\": {\n        \"dtype\": \"category\",\n        \"num_unique_values\": 477,\n        \"samples\": [\n          \"\\uac74\\uc124 \\ud3d0\\uae30\\ubb3c \\uc218\\uc9d1, \\uc6b4\\ubc18\\uc5c5\",\n          \"\\uc804\\uae30\\uc6a9 \\uae30\\uacc4\\u318d\\uc7a5\\ube44 \\ubc0f \\uad00\\ub828 \\uae30\\uc790\\uc7ac \\ub3c4\\ub9e4\\uc5c5\"\n        ],\n        \"semantic_type\": \"\",\n        \"description\": \"\"\n      }\n    }\n  ]\n}"
            }
          },
          "metadata": {},
          "execution_count": 5
        }
      ]
    },
    {
      "cell_type": "code",
      "source": [
        "data.info()"
      ],
      "metadata": {
        "colab": {
          "base_uri": "https://localhost:8080/"
        },
        "id": "dVVU6wNiuV-j",
        "outputId": "5b03eb71-5472-44a3-a1a2-b27af3e6f4db"
      },
      "execution_count": 6,
      "outputs": [
        {
          "output_type": "stream",
          "name": "stdout",
          "text": [
            "<class 'pandas.core.frame.DataFrame'>\n",
            "RangeIndex: 11311 entries, 0 to 11310\n",
            "Data columns (total 6 columns):\n",
            " #   Column             Non-Null Count  Dtype \n",
            "---  ------             --------------  ----- \n",
            " 0   번호                 11311 non-null  int64 \n",
            " 1   관할지사               11311 non-null  object\n",
            " 2   성별                 11311 non-null  object\n",
            " 3   장애유형               11311 non-null  object\n",
            " 4   중분류                11310 non-null  object\n",
            " 5   기기 이용 장애인 종사 산업분류  9521 non-null   object\n",
            "dtypes: int64(1), object(5)\n",
            "memory usage: 530.3+ KB\n"
          ]
        }
      ]
    },
    {
      "cell_type": "markdown",
      "source": [
        "# 데이터 주제 선정\n",
        "1. 데이터 안에 있는 장애유형에서 시각장애인만 활용"
      ],
      "metadata": {
        "id": "-TNTJBQ7ujYF"
      }
    },
    {
      "cell_type": "markdown",
      "source": [
        "## 컬럼 확인"
      ],
      "metadata": {
        "id": "GrtCXTZNwXjP"
      }
    },
    {
      "cell_type": "code",
      "source": [
        "data.columns\n"
      ],
      "metadata": {
        "colab": {
          "base_uri": "https://localhost:8080/"
        },
        "id": "xJdoGgMOwbYO",
        "outputId": "afcf89a4-474b-41f4-d9ab-05bf9757b8cf"
      },
      "execution_count": 7,
      "outputs": [
        {
          "output_type": "execute_result",
          "data": {
            "text/plain": [
              "Index(['번호', '관할지사', '성별', '장애유형', '중분류', '기기 이용 장애인 종사 산업분류'], dtype='object')"
            ]
          },
          "metadata": {},
          "execution_count": 7
        }
      ]
    },
    {
      "cell_type": "markdown",
      "source": [
        "## 필요한 컬럼만 선택"
      ],
      "metadata": {
        "id": "qscovw0jwkWt"
      }
    },
    {
      "cell_type": "code",
      "source": [
        "data = data[['번호', '장애유형', '중분류']]"
      ],
      "metadata": {
        "id": "V066WAz0wmJ1"
      },
      "execution_count": 8,
      "outputs": []
    },
    {
      "cell_type": "markdown",
      "source": [
        "## 시각장애 데이터 필터링"
      ],
      "metadata": {
        "id": "NftJzI7fwuXP"
      }
    },
    {
      "cell_type": "code",
      "source": [
        "eye_sick_data = data[data['장애유형'] == '시각장애'].copy()"
      ],
      "metadata": {
        "id": "IPp64Wdyueo2"
      },
      "execution_count": 9,
      "outputs": []
    },
    {
      "cell_type": "markdown",
      "source": [
        "## 필터링 결과 확인"
      ],
      "metadata": {
        "id": "ZowDyUsTw39R"
      }
    },
    {
      "cell_type": "code",
      "source": [
        "# 결과 확인\n",
        "print(eye_sick_data.head())\n",
        "print(eye_sick_data.info())"
      ],
      "metadata": {
        "colab": {
          "base_uri": "https://localhost:8080/"
        },
        "id": "6hBw6CcQw5Iw",
        "outputId": "9b416d63-986b-452f-fac5-679e8d27ac68"
      },
      "execution_count": 14,
      "outputs": [
        {
          "output_type": "stream",
          "name": "stdout",
          "text": [
            "    번호  장애유형                     중분류\n",
            "5    6  시각장애               시각 보조공학기기\n",
            "6    7  시각장애      읽기, 쓰기, 그리기 보조공학기기\n",
            "9   10  시각장애      읽기, 쓰기, 그리기 보조공학기기\n",
            "10  11  시각장애       방향 및 위치인식용 보조공학기기\n",
            "11  12  시각장애  시간, 기억 및 일정 관리용 보조공학기기\n",
            "<class 'pandas.core.frame.DataFrame'>\n",
            "Index: 2628 entries, 5 to 11310\n",
            "Data columns (total 3 columns):\n",
            " #   Column  Non-Null Count  Dtype \n",
            "---  ------  --------------  ----- \n",
            " 0   번호      2628 non-null   int64 \n",
            " 1   장애유형    2628 non-null   object\n",
            " 2   중분류     2627 non-null   object\n",
            "dtypes: int64(1), object(2)\n",
            "memory usage: 82.1+ KB\n",
            "None\n"
          ]
        }
      ]
    },
    {
      "cell_type": "markdown",
      "source": [
        "## 난값 제거"
      ],
      "metadata": {
        "id": "ledEWCum0UXn"
      }
    },
    {
      "cell_type": "code",
      "source": [
        "eye_sick_data['중분류'].unique()"
      ],
      "metadata": {
        "colab": {
          "base_uri": "https://localhost:8080/"
        },
        "id": "VUIBnDhV0qiS",
        "outputId": "64d03ccd-e1fa-4371-d09d-68b406bf56b4"
      },
      "execution_count": 19,
      "outputs": [
        {
          "output_type": "execute_result",
          "data": {
            "text/plain": [
              "array(['시각 보조공학기기', '읽기, 쓰기, 그리기 보조공학기기', '방향 및 위치인식용 보조공학기기',\n",
              "       '시간, 기억 및 일정 관리용 보조공학기기', '건강보호 및 안전용 보조공학기기', '작동 및 원격제어용 보조공학기기',\n",
              "       '출력 장치', '작업용 가구 및 비품', '탁상형 점자출력기', '전자입력보조기기', '데이지플레이어',\n",
              "       '기타신체보조기기', nan, '행정, 자료 저장 및 관리용 보조공학기기', '의자용 액세서리',\n",
              "       '위치잡기용(positioning) 보조공학기기', '청각 및 시각 정보의 기록, 재생, 표시용 보조공학기기',\n",
              "       '청각  보조공학기기', '대형모니터', '스크린리더단말기', '휴대용점자출력기', '터치모니터', '휴대용 확대기',\n",
              "       '점자정보단말기', '특수시계', '탁상형 확대기', '기타정보접근기기', '차량용 액세서리 및 개조용품',\n",
              "       '신호기기', '원거리 통신용 보조공학기기', '동력 구동 이동기기', '작업장 사물 운반용 보조공학기기'],\n",
              "      dtype=object)"
            ]
          },
          "metadata": {},
          "execution_count": 19
        }
      ]
    },
    {
      "cell_type": "code",
      "source": [
        "# prompt: 난값 존재하는지 확인하는 코드좀\n",
        "\n",
        "eye_sick_data.isnull().sum()"
      ],
      "metadata": {
        "colab": {
          "base_uri": "https://localhost:8080/",
          "height": 178
        },
        "id": "MiXuSFEu2aRb",
        "outputId": "715030da-399e-4896-a029-bacbb184d696"
      },
      "execution_count": 26,
      "outputs": [
        {
          "output_type": "execute_result",
          "data": {
            "text/plain": [
              "번호      0\n",
              "장애유형    0\n",
              "중분류     1\n",
              "dtype: int64"
            ],
            "text/html": [
              "<div>\n",
              "<style scoped>\n",
              "    .dataframe tbody tr th:only-of-type {\n",
              "        vertical-align: middle;\n",
              "    }\n",
              "\n",
              "    .dataframe tbody tr th {\n",
              "        vertical-align: top;\n",
              "    }\n",
              "\n",
              "    .dataframe thead th {\n",
              "        text-align: right;\n",
              "    }\n",
              "</style>\n",
              "<table border=\"1\" class=\"dataframe\">\n",
              "  <thead>\n",
              "    <tr style=\"text-align: right;\">\n",
              "      <th></th>\n",
              "      <th>0</th>\n",
              "    </tr>\n",
              "  </thead>\n",
              "  <tbody>\n",
              "    <tr>\n",
              "      <th>번호</th>\n",
              "      <td>0</td>\n",
              "    </tr>\n",
              "    <tr>\n",
              "      <th>장애유형</th>\n",
              "      <td>0</td>\n",
              "    </tr>\n",
              "    <tr>\n",
              "      <th>중분류</th>\n",
              "      <td>1</td>\n",
              "    </tr>\n",
              "  </tbody>\n",
              "</table>\n",
              "</div><br><label><b>dtype:</b> int64</label>"
            ]
          },
          "metadata": {},
          "execution_count": 26
        }
      ]
    },
    {
      "cell_type": "code",
      "source": [
        "# non값 제거\n",
        "eye_sick_data.dropna(subset=['중분류'], inplace=True)"
      ],
      "metadata": {
        "id": "Vj5KHX0c2z4A"
      },
      "execution_count": 27,
      "outputs": []
    },
    {
      "cell_type": "code",
      "source": [
        "eye_sick_data.isnull().sum()"
      ],
      "metadata": {
        "colab": {
          "base_uri": "https://localhost:8080/",
          "height": 178
        },
        "id": "GTjwJxQ44LQ_",
        "outputId": "22542bdb-35ad-492e-8bc6-ff614387cc5a"
      },
      "execution_count": 28,
      "outputs": [
        {
          "output_type": "execute_result",
          "data": {
            "text/plain": [
              "번호      0\n",
              "장애유형    0\n",
              "중분류     0\n",
              "dtype: int64"
            ],
            "text/html": [
              "<div>\n",
              "<style scoped>\n",
              "    .dataframe tbody tr th:only-of-type {\n",
              "        vertical-align: middle;\n",
              "    }\n",
              "\n",
              "    .dataframe tbody tr th {\n",
              "        vertical-align: top;\n",
              "    }\n",
              "\n",
              "    .dataframe thead th {\n",
              "        text-align: right;\n",
              "    }\n",
              "</style>\n",
              "<table border=\"1\" class=\"dataframe\">\n",
              "  <thead>\n",
              "    <tr style=\"text-align: right;\">\n",
              "      <th></th>\n",
              "      <th>0</th>\n",
              "    </tr>\n",
              "  </thead>\n",
              "  <tbody>\n",
              "    <tr>\n",
              "      <th>번호</th>\n",
              "      <td>0</td>\n",
              "    </tr>\n",
              "    <tr>\n",
              "      <th>장애유형</th>\n",
              "      <td>0</td>\n",
              "    </tr>\n",
              "    <tr>\n",
              "      <th>중분류</th>\n",
              "      <td>0</td>\n",
              "    </tr>\n",
              "  </tbody>\n",
              "</table>\n",
              "</div><br><label><b>dtype:</b> int64</label>"
            ]
          },
          "metadata": {},
          "execution_count": 28
        }
      ]
    },
    {
      "cell_type": "code",
      "source": [
        "eye_sick_data['중분류'].unique()"
      ],
      "metadata": {
        "colab": {
          "base_uri": "https://localhost:8080/"
        },
        "id": "x6Q72GvU4SDk",
        "outputId": "45ee6eb0-fbf1-4e68-d0fe-797bd6936629"
      },
      "execution_count": 36,
      "outputs": [
        {
          "output_type": "execute_result",
          "data": {
            "text/plain": [
              "array(['시각 보조공학기기', '읽기, 쓰기, 그리기 보조공학기기', '방향 및 위치인식용 보조공학기기',\n",
              "       '시간, 기억 및 일정 관리용 보조공학기기', '건강보호 및 안전용 보조공학기기', '작동 및 원격제어용 보조공학기기',\n",
              "       '출력 장치', '작업용 가구 및 비품', '탁상형 점자출력기', '전자입력보조기기', '데이지플레이어',\n",
              "       '기타신체보조기기', '행정, 자료 저장 및 관리용 보조공학기기', '의자용 액세서리',\n",
              "       '위치잡기용(positioning) 보조공학기기', '청각 및 시각 정보의 기록, 재생, 표시용 보조공학기기',\n",
              "       '청각  보조공학기기', '대형모니터', '스크린리더단말기', '휴대용점자출력기', '터치모니터', '휴대용 확대기',\n",
              "       '점자정보단말기', '특수시계', '탁상형 확대기', '기타정보접근기기', '차량용 액세서리 및 개조용품',\n",
              "       '신호기기', '원거리 통신용 보조공학기기', '동력 구동 이동기기', '작업장 사물 운반용 보조공학기기'],\n",
              "      dtype=object)"
            ]
          },
          "metadata": {},
          "execution_count": 36
        }
      ]
    },
    {
      "cell_type": "markdown",
      "source": [
        "## 피벗테이블 활용"
      ],
      "metadata": {
        "id": "wiJNv1axxPXt"
      }
    },
    {
      "cell_type": "code",
      "source": [
        "pivot_table_data = eye_sick_data.pivot_table(\n",
        "    index='장애유형',\n",
        "    columns='중분류',\n",
        "    aggfunc='size',\n",
        "    fill_value=0\n",
        ")\n",
        "\n",
        "pivot_table_data"
      ],
      "metadata": {
        "colab": {
          "base_uri": "https://localhost:8080/",
          "height": 263
        },
        "id": "Mby6_Pfnw534",
        "outputId": "8f28c3bb-4698-4f12-bbf5-54c8d3ee2bb2"
      },
      "execution_count": 37,
      "outputs": [
        {
          "output_type": "execute_result",
          "data": {
            "text/plain": [
              "중분류   건강보호 및 안전용 보조공학기기  기타신체보조기기  기타정보접근기기  대형모니터  데이지플레이어  동력 구동 이동기기  \\\n",
              "장애유형                                                                      \n",
              "시각장애                276        13         1      4        5           1   \n",
              "\n",
              "중분류   방향 및 위치인식용 보조공학기기  스크린리더단말기  시각 보조공학기기  시간, 기억 및 일정 관리용 보조공학기기  ...  \\\n",
              "장애유형                                                                  ...   \n",
              "시각장애                122         8        194                      90  ...   \n",
              "\n",
              "중분류   청각  보조공학기기  청각 및 시각 정보의 기록, 재생, 표시용 보조공학기기  출력 장치  탁상형 점자출력기  탁상형 확대기  \\\n",
              "장애유형                                                                          \n",
              "시각장애           2                               1    222          4        4   \n",
              "\n",
              "중분류   터치모니터  특수시계  행정, 자료 저장 및 관리용 보조공학기기  휴대용 확대기  휴대용점자출력기  \n",
              "장애유형                                                          \n",
              "시각장애      2     1                      23        2         2  \n",
              "\n",
              "[1 rows x 31 columns]"
            ],
            "text/html": [
              "\n",
              "  <div id=\"df-4636541a-2d60-4bea-9c17-cc7c07f48e5e\" class=\"colab-df-container\">\n",
              "    <div>\n",
              "<style scoped>\n",
              "    .dataframe tbody tr th:only-of-type {\n",
              "        vertical-align: middle;\n",
              "    }\n",
              "\n",
              "    .dataframe tbody tr th {\n",
              "        vertical-align: top;\n",
              "    }\n",
              "\n",
              "    .dataframe thead th {\n",
              "        text-align: right;\n",
              "    }\n",
              "</style>\n",
              "<table border=\"1\" class=\"dataframe\">\n",
              "  <thead>\n",
              "    <tr style=\"text-align: right;\">\n",
              "      <th>중분류</th>\n",
              "      <th>건강보호 및 안전용 보조공학기기</th>\n",
              "      <th>기타신체보조기기</th>\n",
              "      <th>기타정보접근기기</th>\n",
              "      <th>대형모니터</th>\n",
              "      <th>데이지플레이어</th>\n",
              "      <th>동력 구동 이동기기</th>\n",
              "      <th>방향 및 위치인식용 보조공학기기</th>\n",
              "      <th>스크린리더단말기</th>\n",
              "      <th>시각 보조공학기기</th>\n",
              "      <th>시간, 기억 및 일정 관리용 보조공학기기</th>\n",
              "      <th>...</th>\n",
              "      <th>청각  보조공학기기</th>\n",
              "      <th>청각 및 시각 정보의 기록, 재생, 표시용 보조공학기기</th>\n",
              "      <th>출력 장치</th>\n",
              "      <th>탁상형 점자출력기</th>\n",
              "      <th>탁상형 확대기</th>\n",
              "      <th>터치모니터</th>\n",
              "      <th>특수시계</th>\n",
              "      <th>행정, 자료 저장 및 관리용 보조공학기기</th>\n",
              "      <th>휴대용 확대기</th>\n",
              "      <th>휴대용점자출력기</th>\n",
              "    </tr>\n",
              "    <tr>\n",
              "      <th>장애유형</th>\n",
              "      <th></th>\n",
              "      <th></th>\n",
              "      <th></th>\n",
              "      <th></th>\n",
              "      <th></th>\n",
              "      <th></th>\n",
              "      <th></th>\n",
              "      <th></th>\n",
              "      <th></th>\n",
              "      <th></th>\n",
              "      <th></th>\n",
              "      <th></th>\n",
              "      <th></th>\n",
              "      <th></th>\n",
              "      <th></th>\n",
              "      <th></th>\n",
              "      <th></th>\n",
              "      <th></th>\n",
              "      <th></th>\n",
              "      <th></th>\n",
              "      <th></th>\n",
              "    </tr>\n",
              "  </thead>\n",
              "  <tbody>\n",
              "    <tr>\n",
              "      <th>시각장애</th>\n",
              "      <td>276</td>\n",
              "      <td>13</td>\n",
              "      <td>1</td>\n",
              "      <td>4</td>\n",
              "      <td>5</td>\n",
              "      <td>1</td>\n",
              "      <td>122</td>\n",
              "      <td>8</td>\n",
              "      <td>194</td>\n",
              "      <td>90</td>\n",
              "      <td>...</td>\n",
              "      <td>2</td>\n",
              "      <td>1</td>\n",
              "      <td>222</td>\n",
              "      <td>4</td>\n",
              "      <td>4</td>\n",
              "      <td>2</td>\n",
              "      <td>1</td>\n",
              "      <td>23</td>\n",
              "      <td>2</td>\n",
              "      <td>2</td>\n",
              "    </tr>\n",
              "  </tbody>\n",
              "</table>\n",
              "<p>1 rows × 31 columns</p>\n",
              "</div>\n",
              "    <div class=\"colab-df-buttons\">\n",
              "\n",
              "  <div class=\"colab-df-container\">\n",
              "    <button class=\"colab-df-convert\" onclick=\"convertToInteractive('df-4636541a-2d60-4bea-9c17-cc7c07f48e5e')\"\n",
              "            title=\"Convert this dataframe to an interactive table.\"\n",
              "            style=\"display:none;\">\n",
              "\n",
              "  <svg xmlns=\"http://www.w3.org/2000/svg\" height=\"24px\" viewBox=\"0 -960 960 960\">\n",
              "    <path d=\"M120-120v-720h720v720H120Zm60-500h600v-160H180v160Zm220 220h160v-160H400v160Zm0 220h160v-160H400v160ZM180-400h160v-160H180v160Zm440 0h160v-160H620v160ZM180-180h160v-160H180v160Zm440 0h160v-160H620v160Z\"/>\n",
              "  </svg>\n",
              "    </button>\n",
              "\n",
              "  <style>\n",
              "    .colab-df-container {\n",
              "      display:flex;\n",
              "      gap: 12px;\n",
              "    }\n",
              "\n",
              "    .colab-df-convert {\n",
              "      background-color: #E8F0FE;\n",
              "      border: none;\n",
              "      border-radius: 50%;\n",
              "      cursor: pointer;\n",
              "      display: none;\n",
              "      fill: #1967D2;\n",
              "      height: 32px;\n",
              "      padding: 0 0 0 0;\n",
              "      width: 32px;\n",
              "    }\n",
              "\n",
              "    .colab-df-convert:hover {\n",
              "      background-color: #E2EBFA;\n",
              "      box-shadow: 0px 1px 2px rgba(60, 64, 67, 0.3), 0px 1px 3px 1px rgba(60, 64, 67, 0.15);\n",
              "      fill: #174EA6;\n",
              "    }\n",
              "\n",
              "    .colab-df-buttons div {\n",
              "      margin-bottom: 4px;\n",
              "    }\n",
              "\n",
              "    [theme=dark] .colab-df-convert {\n",
              "      background-color: #3B4455;\n",
              "      fill: #D2E3FC;\n",
              "    }\n",
              "\n",
              "    [theme=dark] .colab-df-convert:hover {\n",
              "      background-color: #434B5C;\n",
              "      box-shadow: 0px 1px 3px 1px rgba(0, 0, 0, 0.15);\n",
              "      filter: drop-shadow(0px 1px 2px rgba(0, 0, 0, 0.3));\n",
              "      fill: #FFFFFF;\n",
              "    }\n",
              "  </style>\n",
              "\n",
              "    <script>\n",
              "      const buttonEl =\n",
              "        document.querySelector('#df-4636541a-2d60-4bea-9c17-cc7c07f48e5e button.colab-df-convert');\n",
              "      buttonEl.style.display =\n",
              "        google.colab.kernel.accessAllowed ? 'block' : 'none';\n",
              "\n",
              "      async function convertToInteractive(key) {\n",
              "        const element = document.querySelector('#df-4636541a-2d60-4bea-9c17-cc7c07f48e5e');\n",
              "        const dataTable =\n",
              "          await google.colab.kernel.invokeFunction('convertToInteractive',\n",
              "                                                    [key], {});\n",
              "        if (!dataTable) return;\n",
              "\n",
              "        const docLinkHtml = 'Like what you see? Visit the ' +\n",
              "          '<a target=\"_blank\" href=https://colab.research.google.com/notebooks/data_table.ipynb>data table notebook</a>'\n",
              "          + ' to learn more about interactive tables.';\n",
              "        element.innerHTML = '';\n",
              "        dataTable['output_type'] = 'display_data';\n",
              "        await google.colab.output.renderOutput(dataTable, element);\n",
              "        const docLink = document.createElement('div');\n",
              "        docLink.innerHTML = docLinkHtml;\n",
              "        element.appendChild(docLink);\n",
              "      }\n",
              "    </script>\n",
              "  </div>\n",
              "\n",
              "\n",
              "  <div id=\"id_527ff634-e94f-4ed9-8884-b370961926e5\">\n",
              "    <style>\n",
              "      .colab-df-generate {\n",
              "        background-color: #E8F0FE;\n",
              "        border: none;\n",
              "        border-radius: 50%;\n",
              "        cursor: pointer;\n",
              "        display: none;\n",
              "        fill: #1967D2;\n",
              "        height: 32px;\n",
              "        padding: 0 0 0 0;\n",
              "        width: 32px;\n",
              "      }\n",
              "\n",
              "      .colab-df-generate:hover {\n",
              "        background-color: #E2EBFA;\n",
              "        box-shadow: 0px 1px 2px rgba(60, 64, 67, 0.3), 0px 1px 3px 1px rgba(60, 64, 67, 0.15);\n",
              "        fill: #174EA6;\n",
              "      }\n",
              "\n",
              "      [theme=dark] .colab-df-generate {\n",
              "        background-color: #3B4455;\n",
              "        fill: #D2E3FC;\n",
              "      }\n",
              "\n",
              "      [theme=dark] .colab-df-generate:hover {\n",
              "        background-color: #434B5C;\n",
              "        box-shadow: 0px 1px 3px 1px rgba(0, 0, 0, 0.15);\n",
              "        filter: drop-shadow(0px 1px 2px rgba(0, 0, 0, 0.3));\n",
              "        fill: #FFFFFF;\n",
              "      }\n",
              "    </style>\n",
              "    <button class=\"colab-df-generate\" onclick=\"generateWithVariable('pivot_table_data')\"\n",
              "            title=\"Generate code using this dataframe.\"\n",
              "            style=\"display:none;\">\n",
              "\n",
              "  <svg xmlns=\"http://www.w3.org/2000/svg\" height=\"24px\"viewBox=\"0 0 24 24\"\n",
              "       width=\"24px\">\n",
              "    <path d=\"M7,19H8.4L18.45,9,17,7.55,7,17.6ZM5,21V16.75L18.45,3.32a2,2,0,0,1,2.83,0l1.4,1.43a1.91,1.91,0,0,1,.58,1.4,1.91,1.91,0,0,1-.58,1.4L9.25,21ZM18.45,9,17,7.55Zm-12,3A5.31,5.31,0,0,0,4.9,8.1,5.31,5.31,0,0,0,1,6.5,5.31,5.31,0,0,0,4.9,4.9,5.31,5.31,0,0,0,6.5,1,5.31,5.31,0,0,0,8.1,4.9,5.31,5.31,0,0,0,12,6.5,5.46,5.46,0,0,0,6.5,12Z\"/>\n",
              "  </svg>\n",
              "    </button>\n",
              "    <script>\n",
              "      (() => {\n",
              "      const buttonEl =\n",
              "        document.querySelector('#id_527ff634-e94f-4ed9-8884-b370961926e5 button.colab-df-generate');\n",
              "      buttonEl.style.display =\n",
              "        google.colab.kernel.accessAllowed ? 'block' : 'none';\n",
              "\n",
              "      buttonEl.onclick = () => {\n",
              "        google.colab.notebook.generateWithVariable('pivot_table_data');\n",
              "      }\n",
              "      })();\n",
              "    </script>\n",
              "  </div>\n",
              "\n",
              "    </div>\n",
              "  </div>\n"
            ],
            "application/vnd.google.colaboratory.intrinsic+json": {
              "type": "dataframe",
              "variable_name": "pivot_table_data"
            }
          },
          "metadata": {},
          "execution_count": 37
        }
      ]
    },
    {
      "cell_type": "markdown",
      "source": [
        "## 여기서 top10 정한 뒤 이름 변경 하자 이름 너무 길어서.."
      ],
      "metadata": {
        "id": "aNlSvBMC4WZA"
      }
    },
    {
      "cell_type": "code",
      "source": [
        "# 중분류 별 개수 계산\n",
        "category_counts = eye_sick_data['중분류'].value_counts()\n",
        "\n",
        "# 상위 10개 필터링\n",
        "top_10_categories = category_counts.head(10)\n",
        "top_10_categories"
      ],
      "metadata": {
        "colab": {
          "base_uri": "https://localhost:8080/",
          "height": 429
        },
        "id": "Z2NknNqB6HOv",
        "outputId": "3af35026-a502-49bc-ecf3-db4f4502b939"
      },
      "execution_count": 52,
      "outputs": [
        {
          "output_type": "execute_result",
          "data": {
            "text/plain": [
              "중분류\n",
              "읽기, 쓰기, 그리기 보조공학기기        1081\n",
              "작동 및 원격제어용 보조공학기기          364\n",
              "건강보호 및 안전용 보조공학기기          276\n",
              "출력 장치                      222\n",
              "시각 보조공학기기                  194\n",
              "작업용 가구 및 비품                185\n",
              "방향 및 위치인식용 보조공학기기          122\n",
              "시간, 기억 및 일정 관리용 보조공학기기      90\n",
              "행정, 자료 저장 및 관리용 보조공학기기      23\n",
              "기타신체보조기기                    13\n",
              "Name: count, dtype: int64"
            ],
            "text/html": [
              "<div>\n",
              "<style scoped>\n",
              "    .dataframe tbody tr th:only-of-type {\n",
              "        vertical-align: middle;\n",
              "    }\n",
              "\n",
              "    .dataframe tbody tr th {\n",
              "        vertical-align: top;\n",
              "    }\n",
              "\n",
              "    .dataframe thead th {\n",
              "        text-align: right;\n",
              "    }\n",
              "</style>\n",
              "<table border=\"1\" class=\"dataframe\">\n",
              "  <thead>\n",
              "    <tr style=\"text-align: right;\">\n",
              "      <th></th>\n",
              "      <th>count</th>\n",
              "    </tr>\n",
              "    <tr>\n",
              "      <th>중분류</th>\n",
              "      <th></th>\n",
              "    </tr>\n",
              "  </thead>\n",
              "  <tbody>\n",
              "    <tr>\n",
              "      <th>읽기, 쓰기, 그리기 보조공학기기</th>\n",
              "      <td>1081</td>\n",
              "    </tr>\n",
              "    <tr>\n",
              "      <th>작동 및 원격제어용 보조공학기기</th>\n",
              "      <td>364</td>\n",
              "    </tr>\n",
              "    <tr>\n",
              "      <th>건강보호 및 안전용 보조공학기기</th>\n",
              "      <td>276</td>\n",
              "    </tr>\n",
              "    <tr>\n",
              "      <th>출력 장치</th>\n",
              "      <td>222</td>\n",
              "    </tr>\n",
              "    <tr>\n",
              "      <th>시각 보조공학기기</th>\n",
              "      <td>194</td>\n",
              "    </tr>\n",
              "    <tr>\n",
              "      <th>작업용 가구 및 비품</th>\n",
              "      <td>185</td>\n",
              "    </tr>\n",
              "    <tr>\n",
              "      <th>방향 및 위치인식용 보조공학기기</th>\n",
              "      <td>122</td>\n",
              "    </tr>\n",
              "    <tr>\n",
              "      <th>시간, 기억 및 일정 관리용 보조공학기기</th>\n",
              "      <td>90</td>\n",
              "    </tr>\n",
              "    <tr>\n",
              "      <th>행정, 자료 저장 및 관리용 보조공학기기</th>\n",
              "      <td>23</td>\n",
              "    </tr>\n",
              "    <tr>\n",
              "      <th>기타신체보조기기</th>\n",
              "      <td>13</td>\n",
              "    </tr>\n",
              "  </tbody>\n",
              "</table>\n",
              "</div><br><label><b>dtype:</b> int64</label>"
            ]
          },
          "metadata": {},
          "execution_count": 52
        }
      ]
    },
    {
      "cell_type": "markdown",
      "source": [
        "## 이름 수정"
      ],
      "metadata": {
        "id": "lKt0L_EZ62pc"
      }
    },
    {
      "cell_type": "code",
      "source": [
        "name_mapping = {\n",
        "    '읽기, 쓰기, 그리기 보조공학기기' : '학습보조기기',\n",
        "    '작동 및 원격제어용 보조공학기기' : '제어보조기기',\n",
        "    '건강보호 및 안전용 보조공학기기' : '건강보조기기',\n",
        "    '출력 장치' : '출력장치기기',\n",
        "    '시각 보조공학기기' : '시각보조기기',\n",
        "    '작업용 가구 및 비품' : '작업용가구',\n",
        "    '방향 및 위치인식용 보조공학기기' : '방향보조기기',\n",
        "    '시간, 기억 및 일정 관리용 보조공학기기' : '일정관리기기',\n",
        "    '행정, 자료 저장 및 관리용 보조공학기기' : '자료관리기기',\n",
        "    '기타신체보조기기' : '기타보조기기'\n",
        "}\n",
        "top_10_categories.index = top_10_categories.index.map(name_mapping)\n",
        "top_10_categories"
      ],
      "metadata": {
        "colab": {
          "base_uri": "https://localhost:8080/",
          "height": 429
        },
        "id": "QS1-usBx632I",
        "outputId": "f3289b78-4209-4c66-9917-b971a866162f"
      },
      "execution_count": 53,
      "outputs": [
        {
          "output_type": "execute_result",
          "data": {
            "text/plain": [
              "중분류\n",
              "학습보조기기    1081\n",
              "제어보조기기     364\n",
              "건강보조기기     276\n",
              "출력장치기기     222\n",
              "시각보조기기     194\n",
              "작업용가구      185\n",
              "방향보조기기     122\n",
              "일정관리기기      90\n",
              "자료관리기기      23\n",
              "기타보조기기      13\n",
              "Name: count, dtype: int64"
            ],
            "text/html": [
              "<div>\n",
              "<style scoped>\n",
              "    .dataframe tbody tr th:only-of-type {\n",
              "        vertical-align: middle;\n",
              "    }\n",
              "\n",
              "    .dataframe tbody tr th {\n",
              "        vertical-align: top;\n",
              "    }\n",
              "\n",
              "    .dataframe thead th {\n",
              "        text-align: right;\n",
              "    }\n",
              "</style>\n",
              "<table border=\"1\" class=\"dataframe\">\n",
              "  <thead>\n",
              "    <tr style=\"text-align: right;\">\n",
              "      <th></th>\n",
              "      <th>count</th>\n",
              "    </tr>\n",
              "    <tr>\n",
              "      <th>중분류</th>\n",
              "      <th></th>\n",
              "    </tr>\n",
              "  </thead>\n",
              "  <tbody>\n",
              "    <tr>\n",
              "      <th>학습보조기기</th>\n",
              "      <td>1081</td>\n",
              "    </tr>\n",
              "    <tr>\n",
              "      <th>제어보조기기</th>\n",
              "      <td>364</td>\n",
              "    </tr>\n",
              "    <tr>\n",
              "      <th>건강보조기기</th>\n",
              "      <td>276</td>\n",
              "    </tr>\n",
              "    <tr>\n",
              "      <th>출력장치기기</th>\n",
              "      <td>222</td>\n",
              "    </tr>\n",
              "    <tr>\n",
              "      <th>시각보조기기</th>\n",
              "      <td>194</td>\n",
              "    </tr>\n",
              "    <tr>\n",
              "      <th>작업용가구</th>\n",
              "      <td>185</td>\n",
              "    </tr>\n",
              "    <tr>\n",
              "      <th>방향보조기기</th>\n",
              "      <td>122</td>\n",
              "    </tr>\n",
              "    <tr>\n",
              "      <th>일정관리기기</th>\n",
              "      <td>90</td>\n",
              "    </tr>\n",
              "    <tr>\n",
              "      <th>자료관리기기</th>\n",
              "      <td>23</td>\n",
              "    </tr>\n",
              "    <tr>\n",
              "      <th>기타보조기기</th>\n",
              "      <td>13</td>\n",
              "    </tr>\n",
              "  </tbody>\n",
              "</table>\n",
              "</div><br><label><b>dtype:</b> int64</label>"
            ]
          },
          "metadata": {},
          "execution_count": 53
        }
      ]
    },
    {
      "cell_type": "markdown",
      "source": [
        "## 표만들기"
      ],
      "metadata": {
        "id": "VmAiEBZuyhvC"
      }
    },
    {
      "cell_type": "code",
      "source": [
        "# 그래프 그리기\n",
        "plt.figure(figsize=(10, 6))\n",
        "top_10_categories.plot(kind='bar')\n",
        "plt.title('시각장애인 보조기기')\n",
        "plt.xlabel('중분류')\n",
        "plt.ylabel('빈도')\n",
        "plt.xticks(rotation=45, ha='right')\n",
        "plt.tight_layout()\n",
        "plt.show()"
      ],
      "metadata": {
        "colab": {
          "base_uri": "https://localhost:8080/",
          "height": 607
        },
        "id": "XM7Dp97nyihe",
        "outputId": "594a41a6-6726-48b0-e7cf-4a655f586ed5"
      },
      "execution_count": 55,
      "outputs": [
        {
          "output_type": "display_data",
          "data": {
            "text/plain": [
              "<Figure size 1000x600 with 1 Axes>"
            ],
            "image/png": "[encoded data removed]"
          },
          "metadata": {}
        }
      ]
    }
  ]
}